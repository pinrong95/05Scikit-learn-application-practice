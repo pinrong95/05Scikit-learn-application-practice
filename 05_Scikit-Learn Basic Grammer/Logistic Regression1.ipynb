{
 "cells": [
  {
   "cell_type": "markdown",
   "metadata": {},
   "source": [
    "# Logistic Regression  \n",
    "IRIS dataset description:  鳶尾花資料庫\n",
    "https://scikit-learn.org/stable/modules/generated/sklearn.datasets.load_iris.html    \n",
    "https://scikit-learn.org/stable/datasets/index.html#iris-dataset  \n",
    "logistic regression model:   \n",
    "http://scikit-learn.org/stable/modules/generated/sklearn.linear_model.LogisticRegression.html "
   ]
  },
  {
   "cell_type": "code",
   "execution_count": 1,
   "metadata": {},
   "outputs": [
    {
     "name": "stdout",
     "output_type": "stream",
     "text": [
      "[[-1.02143337  0.93456851 -1.70683051 -1.5811216 ]\n",
      " [ 0.64560105 -0.4830725  -0.27263008 -0.70651302]\n",
      " [ 0.37583231 -0.45149601  1.97946059  2.28763461]]\n",
      "[0 1 1 0 2 1 2 0 0 2 1 0 2 1 1 0 1 1 0 0 1 1 2 0 2 1 0 0 1 2 1 2 1 2 2 0 1\n",
      " 0 1 2 2 0 1 2 1]\n",
      "0.9555555555555556\n",
      "模型已成功保存！\n"
     ]
    }
   ],
   "source": [
    "import numpy as np\n",
    "from sklearn.linear_model  import LogisticRegression\n",
    "from sklearn import datasets\n",
    "from sklearn.model_selection import train_test_split\n",
    "from sklearn import preprocessing\n",
    "from sklearn.metrics import accuracy_score, confusion_matrix\n",
    "\n",
    "# import some data to play with\n",
    "iris = datasets.load_iris()\n",
    "\n",
    "#X = iris.data[:, :2]  # we only take the first two features.\n",
    "X = iris.data\n",
    "y = iris.target\n",
    "#print(y) #0,1,2\n",
    "\n",
    "X_train,X_test,y_train,y_test=train_test_split(X,y,test_size=0.3,random_state=1) #random_state 種子值\n",
    "\n",
    "#資料前處理，標準化\n",
    "scaler = preprocessing.StandardScaler().fit(X_train)\n",
    "X_train = scaler.transform(X_train)\n",
    "\n",
    "#n_jobs,定義在模型訓練中允許使用的 CPU 核心數。n_job=-1,使用所有可用的 CPU 核心\n",
    "model=LogisticRegression(n_jobs=-1)\n",
    "model.fit(X_train,y_train)\n",
    "\n",
    "X_test_nor = scaler.transform(X_test)\n",
    "y_pred = model.predict(X_test_nor)\n",
    "accuracy = accuracy_score(y_test, y_pred)\n",
    "\n",
    "print(model.coef_)\n",
    "#print prediction result\n",
    "print(y_pred)\n",
    "#print accuracy \n",
    "print(accuracy)\n",
    "\n",
    "#dump 是 joblib 模組中的函數，用來將模型或其他 Python 對象序列化並存儲到檔案中，方便後續載入使用或共享。\n",
    "#將 model 保存為一個名為 logistic_model.joblib 的檔案。\n",
    "from joblib import dump, load\n",
    "dump(model, 'logistic_model.joblib') \n",
    "print(\"模型已成功保存！\")"
   ]
  },
  {
   "cell_type": "code",
   "execution_count": 2,
   "metadata": {},
   "outputs": [
    {
     "name": "stdout",
     "output_type": "stream",
     "text": [
      "模型已成功載入！\n",
      "[[-1.02143337  0.93456851 -1.70683051 -1.5811216 ]\n",
      " [ 0.64560105 -0.4830725  -0.27263008 -0.70651302]\n",
      " [ 0.37583231 -0.45149601  1.97946059  2.28763461]]\n",
      "[0 1 1 0 2 1 2 0 0 2 1 0 2 1 1 0 1 1 0 0 1 1 2 0 2 1 0 0 1 2 1 2 1 2 2 0 1\n",
      " 0 1 2 2 0 1 2 1]\n",
      "0.9555555555555556\n"
     ]
    }
   ],
   "source": [
    "#載入模型\n",
    "logistic_model = load('logistic_model.joblib')\n",
    "print(\"模型已成功載入！\") \n",
    "\n",
    "y_pred = logistic_model.predict(X_test_nor)\n",
    "accuracy = logistic_model.score(X_test_nor, y_test)\n",
    "\n",
    "print(model.coef_)\n",
    "#print prediction result\n",
    "print(y_pred)\n",
    "#print accuracy \n",
    "print(accuracy)"
   ]
  },
  {
   "cell_type": "markdown",
   "metadata": {},
   "source": [
    "# K-Nearest Neighbor  \n",
    "IRIS dataset description:  \n",
    "https://scikit-learn.org/stable/modules/generated/sklearn.datasets.load_iris.html    \n",
    "https://scikit-learn.org/stable/datasets/index.html#iris-dataset  \n",
    "KNN model:   \n",
    "http://scikit-learn.org/stable/modules/generated/sklearn.neighbors.KNeighborsClassifier.html"
   ]
  },
  {
   "cell_type": "code",
   "execution_count": 3,
   "metadata": {},
   "outputs": [
    {
     "name": "stdout",
     "output_type": "stream",
     "text": [
      "number of correct sample: 21.0\n",
      "accuracy: 0.7\n",
      "confusion matrix: [[12  1  0]\n",
      " [ 0  5  4]\n",
      " [ 0  4  4]]\n"
     ]
    }
   ],
   "source": [
    "import numpy as np\n",
    "from sklearn import neighbors, datasets\n",
    "from sklearn.model_selection import train_test_split\n",
    "from sklearn import preprocessing\n",
    "from sklearn.metrics import accuracy_score, confusion_matrix\n",
    "\n",
    "# import some data to play with\n",
    "iris = datasets.load_iris()\n",
    "\n",
    "X = iris.data[:, :2] # we only take the first two features. \n",
    "#X = iris.data\n",
    "y = iris.target\n",
    "\n",
    "X_train, X_test, y_train, y_test = train_test_split(X, y, test_size=0.2)\n",
    "\n",
    "#資料前處理，標準化\n",
    "scaler = preprocessing.StandardScaler().fit(X_train)\n",
    "X_train = scaler.transform(X_train)\n",
    "\n",
    "model = neighbors.KNeighborsClassifier(n_neighbors=3)\n",
    "model.fit(X_train, y_train)\n",
    "\n",
    "\n",
    "X_test = scaler.transform(X_test)\n",
    "y_pred = model.predict(X_test)\n",
    "\n",
    "accuracy = accuracy_score(y_test, y_pred)\n",
    "num_correct_samples = accuracy_score(y_test, y_pred, normalize=False)\n",
    "con_matrix = confusion_matrix(y_test, y_pred)\n",
    "\n",
    "print('number of correct sample: {}'.format(num_correct_samples))\n",
    "print('accuracy: {}'.format(accuracy))\n",
    "print('confusion matrix: {}'.format(con_matrix))\n"
   ]
  },
  {
   "cell_type": "code",
   "execution_count": null,
   "metadata": {},
   "outputs": [],
   "source": []
  }
 ],
 "metadata": {
  "kernelspec": {
   "display_name": "Python 3 (ipykernel)",
   "language": "python",
   "name": "python3"
  },
  "language_info": {
   "codemirror_mode": {
    "name": "ipython",
    "version": 3
   },
   "file_extension": ".py",
   "mimetype": "text/x-python",
   "name": "python",
   "nbconvert_exporter": "python",
   "pygments_lexer": "ipython3",
   "version": "3.12.5"
  }
 },
 "nbformat": 4,
 "nbformat_minor": 4
}
